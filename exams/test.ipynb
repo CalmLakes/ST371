{
 "cells": [
  {
   "cell_type": "markdown",
   "id": "271a9acc",
   "metadata": {},
   "source": [
    "# Midterm Exam 1, Isaac Hancock, ST371\n",
    "___"
   ]
  },
  {
   "cell_type": "markdown",
   "id": "2dadd2a4",
   "metadata": {},
   "source": [
    "## Import Section"
   ]
  },
  {
   "cell_type": "code",
   "execution_count": 1,
   "id": "e3587bee",
   "metadata": {},
   "outputs": [],
   "source": [
    "import numpy as np\n",
    "import matplotlib.pyplot as plt\n",
    "import seaborn as sns\n",
    "import pandas as pd\n",
    "import stemgraphic as stg\n",
    "import statistics\n",
    "from scipy.stats import binom\n",
    "from matplotlib_venn import venn3,venn2"
   ]
  },
  {
   "cell_type": "markdown",
   "id": "43af7367",
   "metadata": {},
   "source": [
    "Assume total population is over 40 years of age\n",
    "C is cancer and D is diagnosed. Table is filled in as the problem is solved\n",
    "\n",
    "|Table|C|C'|Total|\n",
    "|:-:|:-:|:-:|:-:|\n",
    "|D|0.039|0.057|0.096|\n",
    "|D'|0.011|0.893|0.904|\n",
    "|Total|0.05|0.95|1|\n",
    "\n",
    "$P(C) = 0.05, P(D|C) = 0.78, P(D|C') = 0.06$\n",
    "## Problem 1\n",
    "Need to find $P(D)$\n",
    "\n",
    "$P(D|C) = \\frac{P(D \\cap C)}{P(C)} \\rightarrow P(D \\cap C) = P(D|C)P(C) = 0.78*0.05 = 0.039 \\rightarrow P(D \\cap C) = 0.039$\n",
    "\n",
    "$P(D|C') = \\frac{P(D \\cap C')}{P(C')} = P(D \\cap C') = P(D|C')P(C') = 0.06*0.95 = 0.057 \\rightarrow P(D \\cap C') = 0.057$\n",
    "\n",
    "$P(D) = P(D \\cap C') + P(D \\cap C)  \\rightarrow P(D \\cap C') + P(D \\cap C) =0.057 + 0.039 = 0.096$\n",
    "\n",
    "## Problem 2\n",
    "We need to find $P(C|D)$\n",
    "$P(C|D) = \\frac{P(C \\cap D)}{P(D)} = \\frac{0.039}{0.096} = 0.406$\n",
    "\n",
    "<p style=\"page-break-after:always;\"></p>\n",
    "\n",
    "# Midterm Exam 1, Isaac Hancock, ST371\n",
    "___\n",
    "\n",
    "\n",
    "## Problem 3\n",
    "Blue is the result while green is what is left. From left to right it is very easy to see how the two left venn diagrams when joined in a union $(\\cup)$ result in the third venn diagram"
   ]
  },
  {
   "cell_type": "markdown",
   "id": "89faa426",
   "metadata": {},
   "source": [
    "\n"
   ]
  },
  {
   "cell_type": "code",
   "execution_count": 11,
   "id": "1578c351",
   "metadata": {},
   "outputs": [
    {
     "data": {
      "image/png": "[encoded data removed]",
      "text/plain": [
       "<Figure size 432x288 with 3 Axes>"
      ]
     },
     "metadata": {},
     "output_type": "display_data"
    }
   ],
   "source": [
    "fig,axes = plt.subplots(1,3)\n",
    "set1 = set(['A', 'C'])\n",
    "set2 = set(['B', 'C'])\n",
    "\n",
    "v = venn2([set1, set2], ('A', 'B'), ax = axes[0])\n",
    "v.get_patch_by_id('A').set_color('green')\n",
    "v.get_patch_by_id('B').set_color('green')\n",
    "v.get_patch_by_id('C').set_color('blue')\n",
    "axes[0].title.set_text('$A \\cap B$')\n",
    "\n",
    "v = venn2([set1, set2], ('A', 'B'), ax = axes[1])\n",
    "v.get_patch_by_id('A').set_color('blue')\n",
    "v.get_patch_by_id('B').set_color('green')\n",
    "v.get_patch_by_id('C').set_color('green')\n",
    "axes[1].title.set_text('$A \\cap B\\'$')\n",
    "\n",
    "\n",
    "v = venn2([set1, set2], ('A', 'B'), ax = axes[2])\n",
    "v.get_patch_by_id('A').set_color('blue')\n",
    "v.get_patch_by_id('B').set_color('green')\n",
    "v.get_patch_by_id('C').set_color('blue')\n",
    "axes[2].title.set_text('$A$')\n",
    "\n",
    "plt.show()"
   ]
  },
  {
   "cell_type": "markdown",
   "id": "c969b7bd",
   "metadata": {},
   "source": [
    "\n"
   ]
  },
  {
   "cell_type": "markdown",
   "id": "0cc4357b",
   "metadata": {},
   "source": [
    "<p style=\"page-break-after:always;\"></p>\n",
    "\n",
    "# Midterm Exam 1, Isaac Hancock, ST371\n",
    "___\n",
    "## Problem 4\n",
    "We can demonstrate this by using 3 different venn diagrams. One to show what $A \\cap (B \\cup C)$ and another two to show both $(A \\cap B)$ and $(A \\cap C)$. Blue can be used to show what the selected region is. From left to right it is very easy to see that an union ($\\cup$) of the two regions on the left results in the region displayed in the 3rd venn diagram"
   ]
  },
  {
   "cell_type": "code",
   "execution_count": 12,
   "id": "df5dc37a",
   "metadata": {},
   "outputs": [
    {
     "data": {
      "image/png": "[encoded data removed]",
      "text/plain": [
       "<Figure size 432x288 with 3 Axes>"
      ]
     },
     "metadata": {},
     "output_type": "display_data"
    }
   ],
   "source": [
    "fig,axes = plt.subplots(1,3)\n",
    "set1 = set(['A', 'AC','BA','M'])\n",
    "set2 = set(['B', 'BC','BA','M'])\n",
    "set3 = set(['C', 'AC','BC','M'])\n",
    "v = venn3([set1, set2, set3], ('A', 'B','C'), ax = axes[0])\n",
    "v.get_patch_by_id('A').set_color('green')\n",
    "v.get_patch_by_id('B').set_color('green')\n",
    "v.get_patch_by_id('C').set_color('green')\n",
    "v.get_patch_by_id('111').set_color('blue')\n",
    "v.get_patch_by_id('101').set_color('green')\n",
    "v.get_patch_by_id('110').set_color('blue')\n",
    "v.get_patch_by_id('011').set_color('green')\n",
    "v.get_patch_by_id('001').set_color('green')\n",
    "axes[0].title.set_text('$(A \\cap B)$')\n",
    "v = venn3([set1, set2, set3], ('A', 'B','C'), ax = axes[1])\n",
    "v.get_patch_by_id('A').set_color('green')\n",
    "v.get_patch_by_id('B').set_color('green')\n",
    "v.get_patch_by_id('C').set_color('green')\n",
    "v.get_patch_by_id('111').set_color('blue')\n",
    "v.get_patch_by_id('101').set_color('blue')\n",
    "v.get_patch_by_id('110').set_color('green')\n",
    "v.get_patch_by_id('011').set_color('green')\n",
    "v.get_patch_by_id('001').set_color('green')\n",
    "axes[1].title.set_text('$(A \\cap C)$')\n",
    "v = venn3([set1, set2, set3], ('A', 'B','C'), ax = axes[2])\n",
    "v.get_patch_by_id('A').set_color('green')\n",
    "v.get_patch_by_id('B').set_color('green')\n",
    "v.get_patch_by_id('C').set_color('green')\n",
    "v.get_patch_by_id('111').set_color('blue')\n",
    "v.get_patch_by_id('101').set_color('blue')\n",
    "v.get_patch_by_id('110').set_color('blue')\n",
    "v.get_patch_by_id('011').set_color('green')\n",
    "v.get_patch_by_id('001').set_color('green')\n",
    "axes[2].title.set_text('$A \\cap (B \\cup C)$')\n",
    "plt.show()"
   ]
  },
  {
   "cell_type": "markdown",
   "id": "fa6240e8",
   "metadata": {},
   "source": [
    "\n",
    "<p style=\"page-break-after:always;\"></p>\n",
    "\n",
    "# Midterm Exam 1, Isaac Hancock, ST371\n",
    "___\n",
    "\n",
    "## Problem 5\n",
    "Can be described 1 - the probability of succedding at all tests.DeMorgans. \n",
    "$P(1 \\cup 2 \\cup 3 \\cup 4) = P(1' \\cap 2' \\cap 3' \\cap 4')' = 1 - P(1' \\cap 2' \\cap 3' \\cap 4')$\n",
    "\n",
    "$P(1') = 1 - P(1) = 1 - 0.01 = 0.99$\n",
    "\n",
    "$P(2') = 1 - P(2) = 1 - 0.03 = 0.97$\n",
    "\n",
    "$P(3') = 1 - P(3) = 1 - 0.02 = 0.98$\n",
    "\n",
    "$P(4') = 1 - P(4) = 1 - 0.01 = 0.99$\n",
    "\n",
    "$P(S) = P(1')P(2')P(3')P(4') = 0.99*0.97*0.98*0.99 = 0.932$\n",
    "\n",
    "Solve for $1 - P(S) = 1 - 0.932 = 0.068$\n",
    "\n",
    "## Problem 6\n",
    "Find the probability of succeeding in both and then subtract that from 1. Demorgans \n",
    "$P(2 \\cup 3) = P(2' \\cap 3')' = 1 - P(2' \\cap 3')$\n",
    "\n",
    "$P(2' \\cap 3') = P(2')P(3') = 0.97*0.98 = 0.951 \\rightarrow 1 - 0.951 = 0.049$\n",
    "\n",
    "## Problem 7 \n",
    "Discrete random variables.\n",
    "$P(F) = 0.068$\n",
    "$P(S) = 1 - P(F) = 1 - 0.068 = 0.932$\n",
    "We assume that if we fail any one of the functional tests than we must reject the chip.Thus we know the number of chips being tested and the probability that any test fails.\n",
    "$E_{Failed}(X) = N_{Chips}*P_{Failure}  = 100 * 0.068 = 6.8 = 6 $ Chips. Here we are flooring the value because the 7th chip hasnt quite failed\n",
    "\n",
    "<p style=\"page-break-after:always;\"></p>\n",
    "\n",
    "# Midterm Exam 1, Isaac Hancock, ST371\n",
    "___\n",
    "\n",
    "## Problem 8\n",
    "Working with Binomial pmf. \n",
    "100 choose 10 = 1.7310309e+13 \n",
    "Solution is $1.7310309*10^{13} * (0.068)^{10}*(0.932)^{90} = 0.06469$ We can validate this value in python to find the probability of exactly 10 chips failing assuming that the probability of failure is 0.068 or any one test failing."
   ]
  },
  {
   "cell_type": "code",
   "execution_count": 4,
   "id": "10a53b55",
   "metadata": {},
   "outputs": [
    {
     "data": {
      "text/plain": [
       "0.06468834954985812"
      ]
     },
     "execution_count": 4,
     "metadata": {},
     "output_type": "execute_result"
    }
   ],
   "source": [
    "binom.pmf(10,100,0.068)"
   ]
  },
  {
   "cell_type": "markdown",
   "id": "9fe139b2",
   "metadata": {},
   "source": [
    "## Problem 9\n",
    "|Cars|0|1|2|3|\n",
    "|:-:|:-:|:-:|:-:|:-:|\n",
    "|P|0.19|0.38|0.29|0.15|\n",
    "\n",
    "This is incorrect because the total probability must be  = 1 for a given pmf to be valid. \n",
    "\n",
    "$\\sum {P_{Cars}} = 0.19 + 0.38 + 0.29 + 0.15 = 1.01$\n",
    "\n",
    "## Problem 10\n",
    "We know that $P(A) + P(A') = 1$. If A is it will rain tomorrow $P(A) + P(A') = 0.52 + 0.4 = 0.92$ This is incorrect because $0.92 \\ne 1$\n",
    "\n",
    "\n",
    "\n",
    "## Problem 11\n",
    "In a valid pmf, $p(x) \\geq 0$ for all values of x. This means that the probability of an event occuring must be greater than 0 and the probability 3 or more mistakes is negative. As $-0.25 < 0$ this is not valid.\n",
    "\n",
    "<p style=\"page-break-after:always;\"></p>\n",
    "\n",
    "# Midterm Exam 1, Isaac Hancock, ST371\n",
    "___\n",
    "\n",
    "## Problem 12\n",
    "The assumption made here is that hearts and black cards are independent. For this to be true $P(H|B) = P(B)$ however we know that hearts are red and not black thus $P(H|B) = 0$ and $ P(B) = 0.5$ and $0 \\ne 0.5$ thus proving that this statement is incorrect. In addition, if two events are independent $P(A \\cap B) = P(A) \\cdot P(B)$ however $P(B \\cap H) = 0$ because no heart is black and $P(B) \\cdot P(H) = \\frac{1}{9}$ as mentioned above. Since $0 \\ne \\frac{1}{9}$, this also shows that this statement is incorrect"
   ]
  },
  {
   "cell_type": "markdown",
   "id": "de8358f7",
   "metadata": {},
   "source": [
    "## Problem 13"
   ]
  },
  {
   "cell_type": "code",
   "execution_count": 5,
   "id": "849c1f3c",
   "metadata": {},
   "outputs": [
    {
     "name": "stdout",
     "output_type": "stream",
     "text": [
      "Mean: 124.3\n",
      "Median: 120.0\n"
     ]
    }
   ],
   "source": [
    "data = [123,116,122,110,175,126,125,111,118,117]\n",
    "mean = statistics.mean(data) \n",
    "median = statistics.median(data)\n",
    "print(\"Mean: %0.1f\\nMedian: %0.1f\" % (mean,median))"
   ]
  },
  {
   "cell_type": "markdown",
   "id": "4795e581",
   "metadata": {},
   "source": [
    "## Problem 14\n",
    "If we were to graph this data set on say a stem and leaf plot, we would see that the data is skewed to the right so that their are more higher values than lower values. This will cause the mean to be larger than the median and thus is what is responsible for the substantial difference between the two. The largest reason for this skew is the outlier of 175 that dramatically pulls up the mean. "
   ]
  },
  {
   "cell_type": "markdown",
   "id": "98930518",
   "metadata": {},
   "source": [
    "\n",
    "## Problem 15\n",
    "$P(X=n) = F(n) - F(n-1) \\rightarrow P(T=5) = F(5) - F(4) = \\frac{3}{4} - \\frac{1}{2} = \\frac{1}{4}$ years\n",
    "<p style=\"page-break-after:always;\"></p>\n",
    "\n",
    "# Midterm Exam 1, Isaac Hancock, ST371\n",
    "___\n",
    "\n",
    "## Problem 16\n",
    "Find $P(T > 3)$. We can assume that the max value is 7 because any number greater than or equal to 7 has the same value on the CDF so it doesnt matter. In other words our assumption is that the upper limit for this CDF is 7\n",
    "\n",
    "$P(T > 3) = P(3 < T \\leq 7) \\rightarrow P(a < X \\leq b) = F(b) -F(a) \\rightarrow P(3 < T \\leq 7) = F(7) - F(3) = 1 - \\frac{1}{2} = \\frac{1}{2}$ years\n",
    "\n",
    "## Problem 17\n",
    "$P(1 \\leq T < 6) = P(0 < T \\leq 5) \\rightarrow P(a < X \\leq b) = F(b) -F(a) \\rightarrow P(0 < T \\leq 5) = F(5) - F(0) = \\frac{3}{4} - 0 = \\frac{3}{4}$ years\n",
    "\n",
    "## Problem 18\n",
    "\n",
    "$P(T \\leq 5 | T \\geq 2) \\rightarrow P(A|B) = \\frac{P(A \\cap B)}{P(B)} \\rightarrow P(T \\leq 5 | T \\geq 2) = \\frac{P(T \\leq 5 \\cap T \\geq 2)}{P(T \\geq 2)} \\rightarrow \\frac{P(2 \\leq T \\leq 5)}{P(T \\geq 2)} = \\frac{P(2 \\leq T \\leq 5)}{P(2 \\leq T \\leq 7)}  = \\frac{P(1 < T \\leq 5)}{P(1 < T \\leq 7)} $\n",
    "\n",
    "We need to find $P(1 < T \\leq 5)$ and $P(1 < T \\leq 7)$\n",
    "\n",
    "$P(a < X \\leq b) = F(b) -F(a) \\rightarrow P(1 < T \\leq 5) = F(5) - F(1) = \\frac{3}{4} - \\frac{1}{4} = \\frac{1}{2}$\n",
    "\n",
    "$P(a < X \\leq b) = F(b) -F(a) \\rightarrow P(1 < T \\leq 7) = F(7) - F(1) = 1 - \\frac{1}{4} = \\frac{3}{4}$\n",
    "\n",
    "$P(T \\leq 5 | T \\geq 2) = \\frac{\\frac{1}{2}}{\\frac{3}{4}} = \\frac{2}{3}$\n"
   ]
  },
  {
   "cell_type": "markdown",
   "id": "19d5da0a",
   "metadata": {},
   "source": [
    "<p style=\"page-break-after:always;\"></p>\n",
    "\n",
    "# Midterm Exam 1, Isaac Hancock, ST371\n",
    "___\n",
    "|x|0|1|2|3|4\n",
    "|:-:|:-:|:-:|:-:|:-:|:-:|\n",
    "|f(x)|0.41|0.37|0.16|0.05|0.01\n",
    "\n",
    "## Problem 19\n",
    "For a given probability distrobution to be a pmf it must satisfy several conditions:\n",
    "1. $p(x) \\geq 0$ for all values of x\n",
    "2. $P(0 \\leq X \\leq 20) = 1$\n",
    "\n",
    "We must evaluate these conditions. \n",
    "### *First Condition*\n",
    "We can look at the pmf table above and see that this condition is me\n",
    "### *Second Condition*\n",
    "$P(0 \\leq X \\leq 20) = \\displaystyle\\sum_{x} p(x) = (0.41 + 0.37 + 0.16 + 0.05 + 0.01) = 1$\n",
    "\n",
    "Since both conditions are met this is a valid pmf\n",
    "\n",
    "## Problem 20 \n",
    "$E(x) = \\mu_x = \\displaystyle\\sum_{x} x \\cdot p(x) = 0(0.41) + 1(0.37) + 2(0.16) + 3(0.05) + 4(0.01) = 0.88$\n",
    "\n",
    "<p style=\"page-break-after:always;\"></p>\n",
    "\n",
    "# Midterm Exam 1, Isaac Hancock, ST371\n",
    "___\n",
    "\n",
    "## Problem 21\n",
    "New values are $E_{Cost}(X) = 10 - 0.05X$\n",
    "\n",
    "Thus the expected price per 10 meters is $10 - 0.05(0.88) \\rightarrow E_{Cost} = \\$9.956$\n",
    "\n",
    "This can also be confirmed by calculating new values for the PMF where units are Cost per 10 meters instead of number of imperfections \n",
    "\n",
    "$P_{Cost}(X) = 10 - 0.05X$\n",
    "\n",
    "$P_{Cost}(X=1) = 10 - 0.05(0) = 10$\n",
    "\n",
    "$P_{Cost}(X=1) = 10 - 0.05(1) = 9.95$\n",
    "\n",
    "$P_{Cost}(X=2) = 10 - 0.05(2) = 9.90$\n",
    "\n",
    "$P_{Cost}(X=3) = 10 - 0.05(3) = 9.85$\n",
    "\n",
    "$P_{Cost}(X=4) = 10 - 0.05(4) = 9.80$\n",
    "\n",
    "|x|10|9.95|9.9|9.85|9.8\n",
    "|:-:|:-:|:-:|:-:|:-:|:-:|\n",
    "|f(x)|0.41|0.37|0.16|0.05|0.01\n",
    "\n",
    "$E(x) = \\mu_x = \\displaystyle\\sum_{x} x \\cdot p(x) = 10(0.41) + 9.95(0.37) + 9.9(0.16) + 9.85(0.05) + 9.8(0.01) = \\$9.956$"
   ]
  },
  {
   "cell_type": "markdown",
   "id": "c80a3cb7",
   "metadata": {},
   "source": [
    "\n",
    "## Problem 22\n",
    "For this problem we need to use bimodal distrobutions. \n",
    "The probability of a pipework failure due to operator error is $P_{Failure} = 0.3$ and the probability of pipework failure due to something else is $P_{Success} = 0.7$.\n",
    "\n",
    "$E(X_F) = \\mu_x = \\displaystyle\\sum_{x} x \\cdot p(x) = 20(0.3) = 6$\n",
    "\n",
    "<p style=\"page-break-after:always;\"></p>\n",
    "\n",
    "# Midterm Exam 1, Isaac Hancock, ST371\n",
    "___\n",
    "\n",
    "## Problem 23 \n",
    "We know that $P(18 \\leq X)$ is the same as $P(X=18) + P(X=19) + P(X=20)$. We can plot the binomial distrobution and figure out thos values. We can also validate them by hand \n",
    "\n",
    "$b(20;20;0.3) = 1*(0.3^20)(0.7)^0 = 34.86784401*10^{-12}$\n",
    "\n",
    "$b(19;20;0.3) = 20*(0.3^19)(0.7)^1 = 1.627166054 * 10^{-9}$\n",
    "\n",
    "$b(18;20;0.3) = 190*(0.3^18)(0.7)^2 = 36.06884753 * 10^{-8}$\n",
    "\n",
    "Thus the probability is $34.86784401*10^{-12} + 1.627166054 * 10^{-9} + 36.06884753 * 10^{-8} = 3.773088142*10^{-8}$"
   ]
  },
  {
   "cell_type": "code",
   "execution_count": 6,
   "id": "21f0f4b4",
   "metadata": {
    "scrolled": true
   },
   "outputs": [
    {
     "name": "stdout",
     "output_type": "stream",
     "text": [
      "Probability of at least 18 failing due to operator error is:  3.7730881423709995e-08\n"
     ]
    },
    {
     "data": {
      "image/png": "[encoded data removed]",
      "text/plain": [
       "<Figure size 432x288 with 1 Axes>"
      ]
     },
     "metadata": {
      "needs_background": "light"
     },
     "output_type": "display_data"
    }
   ],
   "source": [
    "dist = binom.pmf(k=range(0,21), n=20,p=0.3)\n",
    "plt.bar(range(0,21),dist)\n",
    "vals_greater_than_18 = dist[-3:]\n",
    "print(\"Probability of at least 18 failing due to operator error is: \", (sum(vals_greater_than_18)))"
   ]
  },
  {
   "cell_type": "markdown",
   "id": "b2478bc2",
   "metadata": {},
   "source": [
    "<p style=\"page-break-after:always;\"></p>\n",
    "\n",
    "# Midterm Exam 1, Isaac Hancock, ST371\n",
    "___\n",
    "## Problem 24\n",
    "We know that $P(4 \\geq X)$ is the same as $P(X=0) + P(X=1) + P(X=2) + P(X=3) + P(X=4)$. We can use the previously plotted binomial distribution to determine this value. \n",
    "\n",
    "$b(4;20;0.3) = 4845*(0.3^4)(0.7)^16 = 0.130421$\n",
    "\n",
    "$b(3;20;0.3) = 1140*(0.3^3)(0.7)^17 = 0.071604$\n",
    "\n",
    "$b(2;20;0.3) = 190*(0.3^2)(0.7)^18 = 0.0278459$\n",
    "\n",
    "$b(1;20;0.3) = 20*(0.3^1)(0.7)^19 = 0.0068393$\n",
    "\n",
    "$b(0;20;0.3) = 1*(0.3^0)(0.7)^20 = 0.000797923$\n",
    "\n",
    "Our total probability is the sum of these values so $0.130421 + 0.071604 + 0.0278459 + 0.0068393 + 0.000797923 = 0.237508123$\n",
    "\n",
    "We can now validate this with python"
   ]
  },
  {
   "cell_type": "code",
   "execution_count": 7,
   "id": "a49f96d2",
   "metadata": {},
   "outputs": [
    {
     "name": "stdout",
     "output_type": "stream",
     "text": [
      "[0.00079792 0.00683934 0.02784587 0.07160367 0.13042097]\n",
      "The probability that there are no more than 4 out of 20 failures in this case due to operator error is 0.237508\n"
     ]
    }
   ],
   "source": [
    "vals_less_than_equal_to_4 = dist[0:5]\n",
    "print(vals_less_than_equal_to_4)\n",
    "print(\"The probability that there are no more than 4 out of 20 failures in this case due to operator error is %f\" % (sum(vals_less_than_equal_to_4)))"
   ]
  },
  {
   "cell_type": "markdown",
   "id": "0c3fff05",
   "metadata": {},
   "source": [
    "<p style=\"page-break-after:always;\"></p>\n",
    "\n",
    "# Midterm Exam 1, Isaac Hancock, ST371\n",
    "___\n",
    "## Problem 25\n",
    "For a certain plant the probability of exactly 5 failing due to operator error if the plants failure rate due to operator error can be calculated below and validated with python. 20 choose 5 is 15,504. \n",
    "\n",
    "$b(5;20;0.3) = 15504*(0.3^5)(0.7)^15 = 0.178863$"
   ]
  },
  {
   "cell_type": "code",
   "execution_count": 8,
   "id": "9d7f7331",
   "metadata": {},
   "outputs": [
    {
     "name": "stdout",
     "output_type": "stream",
     "text": [
      "The probability of exactly 5 parts failing due to operator error is 0.178863\n"
     ]
    }
   ],
   "source": [
    "p_failure = binom.pmf(5,20,0.3)\n",
    "print(\"The probability of exactly 5 parts failing due to operator error is %f\" % (p_failure))"
   ]
  },
  {
   "cell_type": "markdown",
   "id": "ab9f1491",
   "metadata": {},
   "source": [
    "17.89% is a very low percentage which would indicate that this plant does not experience the 30% failure rate for pipelines due to operator error as the figure above mentions. It would seem from this analysis and data that this plant experiences a failure rate that is much lower than 30%. "
   ]
  },
  {
   "cell_type": "markdown",
   "id": "5e2ad3a1",
   "metadata": {},
   "source": [
    "<p style=\"page-break-after:always;\"></p>\n",
    "\n",
    "# Midterm Exam 1, Isaac Hancock, ST371\n",
    "___\n",
    "## Problem 26\n",
    "The probability of 1 engine failing is $P(F) = 0.4$ and $P(S) = 0.6$ \n",
    "\n",
    "### *Two Engine Plane*\n",
    "For a 2 engine play the probability of failure is both engines failing as in all other circumstances at least 1 engine will be running. We do not care about $P(X=1)$ or $P(X=2)$ as we just need to find $P(X=0)$ and subtract that from 1. This is $P_{Failure} = P(F) * P(F) = 0.4 * 0.4 = 0.16$. Thus the probability of success is $P_{Success} = 1 - P_{Failure} = 1 - 0.16 = 0.84$\n",
    "\n"
   ]
  },
  {
   "cell_type": "code",
   "execution_count": 15,
   "id": "1280c484",
   "metadata": {},
   "outputs": [
    {
     "name": "stdout",
     "output_type": "stream",
     "text": [
      "Probability of success for 2 engine plane is 0.840000\n"
     ]
    }
   ],
   "source": [
    "engine_fail = binom.pmf(2,2,0.4)\n",
    "print(\"Probability of success for 2 engine plane is %f\" %(1-engine_fail))"
   ]
  },
  {
   "cell_type": "markdown",
   "id": "2aac90f4",
   "metadata": {},
   "source": [
    "### *Four Engine Plane*\n",
    "Since this is a larger set, we will need to make use of the binomial distribution. The probability of failure can be defined by the following sets where each position is the status of a plane engine: $\\{FFFS\\},\\{FFSF\\},\\{FSFF\\},\\{SFFF\\},\\{FFFF\\}$. This just proves what we know to be true of a binomial distribution. We can calculate it by hand and then validate with a binomial model.\n",
    "\n",
    "$4*0.4^3(0.6)^1 + 0.4^4 = 0.1792 \\rightarrow 1 - 0.1792 = 0.8208$"
   ]
  },
  {
   "cell_type": "code",
   "execution_count": 9,
   "id": "980834e0",
   "metadata": {},
   "outputs": [
    {
     "name": "stdout",
     "output_type": "stream",
     "text": [
      "Probability of success for 4 engine plane is 0.820800\n"
     ]
    }
   ],
   "source": [
    "p_success_4 = binom.pmf(4,4,0.6)\n",
    "p_success_3 = binom.pmf(3,4,0.6)\n",
    "p_success_2 = binom.pmf(2,4,0.6)\n",
    "print(\"Probability of success for 4 engine plane is %f\" %(p_success_2+p_success_3+p_success_4))"
   ]
  },
  {
   "cell_type": "markdown",
   "id": "900e48b5",
   "metadata": {},
   "source": [
    "Based on this series of calculations, one would experience a greater chance of success with a 2 engine plane than a 4 engine plane"
   ]
  },
  {
   "cell_type": "code",
   "execution_count": null,
   "id": "157b3eba",
   "metadata": {},
   "outputs": [],
   "source": []
  }
 ],
 "metadata": {
  "kernelspec": {
   "display_name": "Python 3 (ipykernel)",
   "language": "python",
   "name": "python3"
  },
  "language_info": {
   "codemirror_mode": {
    "name": "ipython",
    "version": 3
   },
   "file_extension": ".py",
   "mimetype": "text/x-python",
   "name": "python",
   "nbconvert_exporter": "python",
   "pygments_lexer": "ipython3",
   "version": "3.10.2"
  }
 },
 "nbformat": 4,
 "nbformat_minor": 5
}
