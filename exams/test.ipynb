{
 "cells": [
  {
   "cell_type": "markdown",
   "id": "271a9acc",
   "metadata": {},
   "source": [
    "# Midterm Exam 1, Isaac Hancock, ST371\n",
    "___"
   ]
  },
  {
   "cell_type": "markdown",
   "id": "2dadd2a4",
   "metadata": {},
   "source": [
    "## Import Section"
   ]
  },
  {
   "cell_type": "code",
   "execution_count": 3,
   "id": "e3587bee",
   "metadata": {},
   "outputs": [],
   "source": [
    "import numpy as np\n",
    "import matplotlib.pyplot as plt\n",
    "import seaborn as sns\n",
    "import pandas as pd\n",
    "import stemgraphic as stg\n",
    "import statistics\n",
    "from scipy.stats import binom\n",
    "from matplotlib_venn import venn3,venn2"
   ]
  },
  {
   "cell_type": "markdown",
   "id": "43af7367",
   "metadata": {},
   "source": [
    "Assume total population is over 40 years of age\n",
    "C is cancer and D is diagnosed. Table is filled in as the problem is solved\n",
    "\n",
    "|Table|C|C'|Total|\n",
    "|:-:|:-:|:-:|:-:|\n",
    "|D|0.039|0.057|0.096|\n",
    "|D'|0.011|0.893|0.904|\n",
    "|Total|0.05|0.95|1|\n",
    "\n",
    "$P(C) = 0.05, P(D|C) = 0.78, P(D|C') = 0.06$\n",
    "## Problem 1\n",
    "Need to find $P(D)$\n",
    "\n",
    "$P(D|C) = \\frac{P(D \\cap C)}{P(C)} \\rightarrow P(D \\cap C) = P(D|C)P(C) = 0.78*0.05 = 0.039 \\rightarrow P(D \\cap C) = 0.039$\n",
    "\n",
    "$P(D|C') = \\frac{P(D \\cap C')}{P(C')} = P(D \\cap C') = P(D|C')P(C') = 0.06*0.95 = 0.057 \\rightarrow P(D \\cap C') = 0.057$\n",
    "\n",
    "$P(D) = P(D \\cap C') + P(D \\cap C)  \\rightarrow P(D \\cap C') + P(D \\cap C) =0.057 + 0.039 = 0.096$\n",
    "\n",
    "## Problem 2\n",
    "We need to find $P(C|D)$\n",
    "$P(C|D) = \\frac{P(C \\cap D)}{P(D)} = \\frac{0.039}{0.096} = 0.406$\n",
    "\n",
    "## Problem 3\n",
    "Blue is the result while green is what is left. "
   ]
  },
  {
   "cell_type": "code",
   "execution_count": 4,
   "id": "1578c351",
   "metadata": {},
   "outputs": [
    {
     "data": {
      "image/png": "[encoded data removed]",
      "text/plain": [
       "<Figure size 432x288 with 3 Axes>"
      ]
     },
     "metadata": {},
     "output_type": "display_data"
    }
   ],
   "source": [
    "fig,axes = plt.subplots(1,3)\n",
    "set1 = set(['A', 'C'])\n",
    "set2 = set(['B', 'C'])\n",
    "\n",
    "v = venn2([set1, set2], ('A', 'B'), ax = axes[0])\n",
    "v.get_patch_by_id('A').set_color('green')\n",
    "v.get_patch_by_id('B').set_color('green')\n",
    "v.get_patch_by_id('C').set_color('blue')\n",
    "axes[0].title.set_text('$A \\cap B$')\n",
    "\n",
    "v = venn2([set1, set2], ('A', 'B'), ax = axes[1])\n",
    "v.get_patch_by_id('A').set_color('blue')\n",
    "v.get_patch_by_id('B').set_color('green')\n",
    "v.get_patch_by_id('C').set_color('green')\n",
    "axes[1].title.set_text('$A \\cap B\\'$')\n",
    "\n",
    "\n",
    "v = venn2([set1, set2], ('A', 'B'), ax = axes[2])\n",
    "v.get_patch_by_id('A').set_color('blue')\n",
    "v.get_patch_by_id('B').set_color('green')\n",
    "v.get_patch_by_id('C').set_color('blue')\n",
    "axes[2].title.set_text('$A$')\n",
    "\n",
    "plt.show()"
   ]
  },
  {
   "cell_type": "markdown",
   "id": "c969b7bd",
   "metadata": {},
   "source": [
    "<p style=\"page-break-after:always;\"></p>\n",
    "\n",
    "# Midterm Exam 1, Isaac Hancock, ST371\n",
    "___"
   ]
  },
  {
   "cell_type": "code",
   "execution_count": 5,
   "id": "df5dc37a",
   "metadata": {},
   "outputs": [
    {
     "data": {
      "image/png": "[encoded data removed]",
      "text/plain": [
       "<Figure size 432x288 with 3 Axes>"
      ]
     },
     "metadata": {},
     "output_type": "display_data"
    }
   ],
   "source": [
    "## Problem 4\n",
    "fig,axes = plt.subplots(1,3)\n",
    "set1 = set(['A', 'AC','BA','M'])\n",
    "set2 = set(['B', 'BC','BA','M'])\n",
    "set3 = set(['C', 'AC','BC','M'])\n",
    "\n",
    "v = venn3([set1, set2, set3], ('A', 'B','C'), ax = axes[0])\n",
    "v.get_patch_by_id('A').set_color('green')\n",
    "v.get_patch_by_id('B').set_color('green')\n",
    "v.get_patch_by_id('C').set_color('green')\n",
    "v.get_patch_by_id('111').set_color('blue')\n",
    "v.get_patch_by_id('101').set_color('green')\n",
    "v.get_patch_by_id('110').set_color('blue')\n",
    "v.get_patch_by_id('011').set_color('green')\n",
    "v.get_patch_by_id('001').set_color('green')\n",
    "axes[0].title.set_text('$(A \\cap B)$')\n",
    "\n",
    "\n",
    "v = venn3([set1, set2, set3], ('A', 'B','C'), ax = axes[1])\n",
    "v.get_patch_by_id('A').set_color('green')\n",
    "v.get_patch_by_id('B').set_color('green')\n",
    "v.get_patch_by_id('C').set_color('green')\n",
    "v.get_patch_by_id('111').set_color('blue')\n",
    "v.get_patch_by_id('101').set_color('blue')\n",
    "v.get_patch_by_id('110').set_color('green')\n",
    "v.get_patch_by_id('011').set_color('green')\n",
    "v.get_patch_by_id('001').set_color('green')\n",
    "axes[1].title.set_text('$(A \\cap C)$')\n",
    "\n",
    "\n",
    "v = venn3([set1, set2, set3], ('A', 'B','C'), ax = axes[2])\n",
    "v.get_patch_by_id('A').set_color('green')\n",
    "v.get_patch_by_id('B').set_color('green')\n",
    "v.get_patch_by_id('C').set_color('green')\n",
    "v.get_patch_by_id('111').set_color('blue')\n",
    "v.get_patch_by_id('101').set_color('blue')\n",
    "v.get_patch_by_id('110').set_color('blue')\n",
    "v.get_patch_by_id('011').set_color('green')\n",
    "v.get_patch_by_id('001').set_color('green')\n",
    "axes[2].title.set_text('$A \\cap (B \\cup C)$')\n",
    "\n",
    "plt.show()"
   ]
  },
  {
   "cell_type": "markdown",
   "id": "fa6240e8",
   "metadata": {},
   "source": [
    "## Problem 5\n",
    "Can be described 1 - the probability of succedding at all tests.DeMorgans. \n",
    "$P(1 \\cup 2 \\cup 3 \\cup 4) = P(1' \\cap 2' \\cap 3' \\cap 4')' = 1 - P(1' \\cap 2' \\cap 3' \\cap 4')$\n",
    "\n",
    "$P(1') = 1 - P(1) = 1 - 0.01 = 0.99$\n",
    "\n",
    "$P(2') = 1 - P(2) = 1 - 0.03 = 0.97$\n",
    "\n",
    "$P(3') = 1 - P(3) = 1 - 0.02 = 0.98$\n",
    "\n",
    "$P(4') = 1 - P(4) = 1 - 0.01 = 0.99$\n",
    "\n",
    "$P(S) = P(1')P(2')P(3')P(4') = 0.99*0.97*0.98*0.99 = 0.932$\n",
    "\n",
    "Solve for $1 - P(S) = 1 - 0.932 = 0.068$\n",
    "\n",
    "## Problem 6\n",
    "Find the probability of succeeding in both and then subtract that from 1. Demorgans \n",
    "$P(2 \\cup 3) = P(2' \\cap 3')' = 1 - P(2' \\cap 3')$\n",
    "$P(2' \\cap 3') = P(2')P(3') = 0.97*0.98 = 0.951 \\rightarrow 1 - 0.951 = 0.049$\n",
    "\n",
    "## Problem 7 \n",
    "Discrete random variables\n",
    "$P(F) = 0.068$\n",
    "$P(S) = 1 - P(F) = 1 - 0.068 = 0.932$\n",
    "We assume that if we fail any one of the functional tests than we must reject the chip.Thus we know the number of chips being tested and the probability that any test fails. \n",
    "$N_{Failed} = N_{Chips}*P_{Failure}  = 100 * 0.068 = 6.8 = 7 $ Chips\n",
    "\n",
    "## Problem 8\n",
    "Working with Binomial pmf. \n",
    "100 choose 10 = 1.7310309e+13 \n",
    "Solution is $1.7310309*10^{13} * (0.068)^{10}*(0.932)^{90} = 0.06469$"
   ]
  },
  {
   "cell_type": "code",
   "execution_count": 6,
   "id": "10a53b55",
   "metadata": {},
   "outputs": [
    {
     "data": {
      "text/plain": [
       "0.06468834954985812"
      ]
     },
     "execution_count": 6,
     "metadata": {},
     "output_type": "execute_result"
    }
   ],
   "source": [
    "binom.pmf(10,100,0.068)"
   ]
  },
  {
   "cell_type": "markdown",
   "id": "9fe139b2",
   "metadata": {},
   "source": [
    "## Problem 9\n",
    "|Cars|0|1|2|3|\n",
    "|:-:|:-:|:-:|:-:|:-:|\n",
    "|P|0.19|0.38|0.29|0.15|\n",
    "\n",
    "Total Probability is > 1 \n",
    "\n",
    "$\\sum {P_{Cars}} = 0.19 + 0.38 + 0.29 + 0.15 = 1.01$\n",
    "\n",
    "## Problem 10\n",
    "We know that $P(A) + P(A') = 1$. If A is it will rain tomorrow $P(A) + P(A') = 0.52 + 0.4 = 0.92$ This is incorrect because $0.92 \\ne 1$\n",
    "\n",
    "## Problem 11\n",
    "\n",
    "The probability of an event occuring must be greater than 0 and the probability 3 or more mistakes is negative. As $-0.25 < 0$ this is incorrect\n",
    "\n",
    "## Problem 12\n",
    "The assumption made here is that hearts and black cards are independent. For this to be true $P(H|B) = P(B)$ however we know that hearts are red and not black thus $P(H|B) = 0$ and $ P(B) = 0.5$ and $0 \\ne 0.5$ thus proving that this statement is incorrect."
   ]
  },
  {
   "cell_type": "markdown",
   "id": "de8358f7",
   "metadata": {},
   "source": [
    "## Problem 13"
   ]
  },
  {
   "cell_type": "code",
   "execution_count": 10,
   "id": "849c1f3c",
   "metadata": {},
   "outputs": [
    {
     "name": "stdout",
     "output_type": "stream",
     "text": [
      "Mean: 124.3\n",
      "Median: 120.0\n"
     ]
    }
   ],
   "source": [
    "data = [123,116,122,110,175,126,125,111,118,117]\n",
    "mean = statistics.mean(data) \n",
    "median = statistics.median(data)\n",
    "print(\"Mean: %0.1f\\nMedian: %0.1f\" % (mean,median))"
   ]
  },
  {
   "cell_type": "markdown",
   "id": "4795e581",
   "metadata": {},
   "source": [
    "## Problem 14\n",
    "If we were to graph this data set on say a stem and leaf plot, we would see that the data is skewed to the right so that their are more higher values than lower values. This will cause the mean to be larger than the median. "
   ]
  },
  {
   "cell_type": "markdown",
   "id": "98930518",
   "metadata": {},
   "source": [
    "## Problem 15\n",
    "$P(X=n) = F(n) - F(n-1) \\rightarrow P(T=5) = F(5) - F(4) = \\frac{3}{4} - \\frac{1}{2} = \\frac{1}{4}$ years\n",
    "\n",
    "## Problem 16\n",
    "Find $P(T > 3)$. We can assume that the max value is 7 because any number greater than or equal to 7 has the same value on the CDF so it doesnt matter. In other words our assumption is that the upper limit for this CDF is 7\n",
    "\n",
    "$P(T > 3) = P(3 < T \\leq 7) \\rightarrow P(a < X \\leq b) = F(b) -F(a) \\rightarrow P(3 < T \\leq 7) = F(7) - F(3) = 1 - \\frac{1}{2} = \\frac{1}{2}$ years\n",
    "\n",
    "## Problem 17\n",
    "$P(1 \\leq T < 6) = P(0 < T \\leq 5) \\rightarrow P(a < X \\leq b) = F(b) -F(a) \\rightarrow P(0 < T \\leq 5) = F(5) - F(0) = \\frac{3}{4} - 0 = \\frac{3}{4}$ years\n",
    "\n",
    "## Problem 18\n",
    "\n",
    "$P(T \\leq 5 | T \\geq 2) \\rightarrow P(A|B) = \\frac{P(A \\cap B)}{P(B)} \\rightarrow P(T \\leq 5 | T \\geq 2) = \\frac{P(T \\leq 5 \\cap T \\geq 2)}{P(T \\geq 2)} \\rightarrow \\frac{P(2 \\leq T \\leq 5)}{P(T \\geq 2)} = \\frac{P(2 \\leq T \\leq 5)}{P(2 \\leq T \\leq 7)}  = \\frac{P(1 < T \\leq 5)}{P(1 < T \\leq 7)} $\n",
    "\n",
    "We need to find $P(1 < T \\leq 5)$ and $P(1 < T \\leq 7)$\n",
    "\n",
    "$P(a < X \\leq b) = F(b) -F(a) \\rightarrow P(1 < T \\leq 5) = F(5) - F(1) = \\frac{3}{4} - \\frac{1}{4} = \\frac{1}{2}$\n",
    "\n",
    "$P(a < X \\leq b) = F(b) -F(a) \\rightarrow P(1 < T \\leq 7) = F(7) - F(1) = 1 - \\frac{1}{4} = \\frac{3}{4}$\n",
    "\n",
    "$P(T \\leq 5 | T \\geq 2) = \\frac{\\frac{1}{2}}{\\frac{3}{4}} = \\frac{2}{3}$\n"
   ]
  },
  {
   "cell_type": "markdown",
   "id": "19d5da0a",
   "metadata": {},
   "source": [
    "___\n",
    "|x|0|1|2|3|4\n",
    "|:-:|:-:|:-:|:-:|:-:|:-:|\n",
    "|f(x)|0.41|0.37|0.16|0.05|0.01\n",
    "\n",
    "## Problem 19\n",
    "For a given probability distrobution to be a pmf it must satisfy several conditions:\n",
    "1. $p(x) \\geq 0$ for all values of x\n",
    "2. $P(0 \\leq X \\leq 20) = 1$\n",
    "\n",
    "We must evaluate these conditions. \n",
    "### *First Condition*\n",
    "We can look at the pmf table above and see that this condition is me\n",
    "### *Second Condition*\n",
    "$P(0 \\leq X \\leq 20) = \\displaystyle\\sum_{x} p(x) = (0.41 + 0.37 + 0.16 + 0.05 + 0.01) = 1$\n",
    "\n",
    "Since both conditions are met this is a valid pmf\n",
    "\n",
    "## Problem 20 \n",
    "$E(x) = \\mu_x = \\displaystyle\\sum_{x} x \\cdot p(x) = 0(0.41) + 1(0.37) + 2(0.16) + 3(0.05) + 4(0.01) = 0.88$\n",
    "\n",
    "## Problem 21\n",
    "New values are $E_{Cost}(X) = 10 - 0.05X$\n",
    "\n",
    "Thus the expected price per 10 meters is $10 - 0.05(0.88) \\rightarrow E_{Cost} = \\$9.956$\n",
    "\n",
    "This can also be confirmed by calculating new values for the PMF where units are Cost per 10 meters instead of number of imperfections \n",
    "\n",
    "$P_{Cost}(X) = 10 - 0.05X$\n",
    "\n",
    "$P_{Cost}(X=1) = 10 - 0.05(0) = 10$\n",
    "\n",
    "$P_{Cost}(X=1) = 10 - 0.05(1) = 9.95$\n",
    "\n",
    "$P_{Cost}(X=2) = 10 - 0.05(2) = 9.90$\n",
    "\n",
    "$P_{Cost}(X=3) = 10 - 0.05(3) = 9.85$\n",
    "\n",
    "$P_{Cost}(X=4) = 10 - 0.05(4) = 9.80$\n",
    "\n",
    "|x|10|9.95|9.9|9.85|9.8\n",
    "|:-:|:-:|:-:|:-:|:-:|:-:|\n",
    "|f(x)|0.41|0.37|0.16|0.05|0.01\n",
    "\n",
    "$E(x) = \\mu_x = \\displaystyle\\sum_{x} x \\cdot p(x) = 10(0.41) + 9.95(0.37) + 9.9(0.16) + 9.85(0.05) + 9.8(0.01) = \\$9.956$"
   ]
  },
  {
   "cell_type": "markdown",
   "id": "c80a3cb7",
   "metadata": {},
   "source": [
    "\n",
    "<p style=\"\\n\"></p>\n",
    "\n",
    "# Midterm Exam 1, Isaac Hancock, ST371\n",
    "___\n",
    "### Part B\n",
    "We have to calculate the new Values of X such that $X_{new} = \\frac{150}{5-X}$\n",
    "\n",
    "$X_1 = \\frac{150}{5-1} = 37.5$\n",
    "$X_1 = \\frac{150}{5-2} = 50$\n",
    "$X_1 = \\frac{150}{5-3} = 75$\n",
    "$X_1 = \\frac{150}{5-4} = 150$\n",
    "\n",
    "|X|37.5|50|75|150|\n",
    "|:-:|:-:|:-:|:-:|:-:|\n",
    "|p(x)|0.15| 0.35|0.35|0.15|\n",
    "\n",
    "$E(x) = \\mu_x = \\displaystyle\\sum_{x} x \\cdot p(x) = 37.5(0.15) + 50(0.35) + 75(0.35) + 150(0.15) = 71.875$\n",
    "\n",
    "Given this information it would be better to charge a flat fee of $75"
   ]
  },
  {
   "cell_type": "markdown",
   "id": "b2478bc2",
   "metadata": {},
   "source": [
    "## Problem 57\n",
    "___\n",
    "\n",
    "Plot the binomial distribution for our datat set. We need to find the probability that at least 9 will work so $P( 9 \\leq X)$ or $P(X=9) + P(X=10)$. We also know that the probability for 1 flashlight working is the probability that both batterys are at the correct voltage. Thus, this can be calculated as such:$0.9*0.9 = 0.81$. We will use these assumptions to create a binomial distribution"
   ]
  },
  {
   "cell_type": "code",
   "execution_count": 7,
   "id": "1b97eb80",
   "metadata": {},
   "outputs": [
    {
     "data": {
      "text/plain": [
       "<BarContainer object of 10 artists>"
      ]
     },
     "execution_count": 7,
     "metadata": {},
     "output_type": "execute_result"
    },
    {
     "data": {
      "image/png": "[encoded data removed]",
      "text/plain": [
       "<Figure size 432x288 with 1 Axes>"
      ]
     },
     "metadata": {
      "needs_background": "light"
     },
     "output_type": "display_data"
    }
   ],
   "source": [
    "dist = binom.pmf(k=range(1,11), n=10,p=0.81)\n",
    "plt.bar(range(1,11),dist)"
   ]
  },
  {
   "cell_type": "code",
   "execution_count": 8,
   "id": "4586b749",
   "metadata": {},
   "outputs": [
    {
     "name": "stdout",
     "output_type": "stream",
     "text": [
      "The probability of at least 9 working is 0.40676\n"
     ]
    }
   ],
   "source": [
    "p = sum(dist[-2:])\n",
    "print(\"The probability of at least 9 working is %0.5f\" % (p))"
   ]
  },
  {
   "cell_type": "markdown",
   "id": "568d72d2",
   "metadata": {},
   "source": [
    "<p style=\"page-break-after:always;\"></p>\n",
    "\n",
    "# Midterm Exam 1, Isaac Hancock, ST371\n",
    "___"
   ]
  },
  {
   "cell_type": "markdown",
   "id": "5ca18804",
   "metadata": {},
   "source": [
    "## Problem 60\n",
    "___\n",
    "The probability of our car being a passenger car is $P(X_P) = 0.6$. The probability of it not being a passenger car is $P(X_N) = 0.4$. \n",
    "\n",
    "$E(X_P) = \\mu_x = \\displaystyle\\sum_{x} x \\cdot p(x) = 25(0.6) = 15$\n",
    "\n",
    "$E(X_N) = 25 - X = 25 - E(X_P) = 25 - 15 = 10$ \n",
    "\n",
    "Thus the total revenue $1.00 \\cdot E(X_P) + 2.5 \\cdot E(X_N) = 1(15) + 2.5(10) = 40$\n",
    "\n",
    "The exepcted toll revenue is 40 dollars"
   ]
  },
  {
   "cell_type": "code",
   "execution_count": null,
   "id": "0a3a1452",
   "metadata": {},
   "outputs": [],
   "source": []
  }
 ],
 "metadata": {
  "kernelspec": {
   "display_name": "Python 3 (ipykernel)",
   "language": "python",
   "name": "python3"
  },
  "language_info": {
   "codemirror_mode": {
    "name": "ipython",
    "version": 3
   },
   "file_extension": ".py",
   "mimetype": "text/x-python",
   "name": "python",
   "nbconvert_exporter": "python",
   "pygments_lexer": "ipython3",
   "version": "3.10.2"
  }
 },
 "nbformat": 4,
 "nbformat_minor": 5
}
