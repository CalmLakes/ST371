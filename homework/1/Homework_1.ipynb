{
 "cells": [
  {
   "cell_type": "markdown",
   "id": "271a9acc",
   "metadata": {},
   "source": [
    "# Homework 01, Isaac Hancock, ST371\n",
    "___"
   ]
  },
  {
   "cell_type": "markdown",
   "id": "2dadd2a4",
   "metadata": {},
   "source": [
    "## Import Section"
   ]
  },
  {
   "cell_type": "code",
   "execution_count": 42,
   "id": "e3587bee",
   "metadata": {},
   "outputs": [],
   "source": [
    "import numpy as np\n",
    "import matplotlib.pyplot as plt\n",
    "import seaborn as sns\n",
    "import pandas as pd\n",
    "import stemgraphic as stg\n",
    "import statistics"
   ]
  },
  {
   "cell_type": "markdown",
   "id": "43af7367",
   "metadata": {},
   "source": [
    "## Problem 35\n",
    "___\n",
    "### Part A\n",
    "Based on the stem and leaf plot below, we can assume that the median will be about the same as the mean because the plot is well centered."
   ]
  },
  {
   "cell_type": "code",
   "execution_count": 43,
   "id": "e7e9c410",
   "metadata": {},
   "outputs": [
    {
     "data": {
      "text/plain": [
       "(<Figure size 540x252 with 1 Axes>, <Axes:>)"
      ]
     },
     "execution_count": 43,
     "metadata": {},
     "output_type": "execute_result"
    },
    {
     "data": {
      "image/png": "[encoded data removed]",
      "text/plain": [
       "<Figure size 540x252 with 1 Axes>"
      ]
     },
     "metadata": {
      "needs_background": "light"
     },
     "output_type": "display_data"
    }
   ],
   "source": [
    "# Note that the time is in seconds\n",
    "data = [389,356,359,363,375,424,325,394,402,373,373,370,364,366,364,325,339,393,392,369,374,359,356,403,334,397]\n",
    "arr = np.array(data)\n",
    "stg.stem_graphic(arr,scale=10,asc=False)"
   ]
  },
  {
   "cell_type": "markdown",
   "id": "c044a94b",
   "metadata": {},
   "source": [
    "### Part B\n",
    "The mean and median have been calculated below."
   ]
  },
  {
   "cell_type": "code",
   "execution_count": 44,
   "id": "b741d110",
   "metadata": {},
   "outputs": [
    {
     "name": "stdout",
     "output_type": "stream",
     "text": [
      "Median: 369.5000 Seconds\n",
      "Mean: 370.6923 Seconds\n"
     ]
    }
   ],
   "source": [
    "median = statistics.median(data)\n",
    "mean = statistics.mean(data)\n",
    "print(\"Median: %0.4f Seconds\" % (median))\n",
    "print(\"Mean: %0.4f Seconds\" % (mean))"
   ]
  },
  {
   "cell_type": "markdown",
   "id": "c969b7bd",
   "metadata": {},
   "source": [
    "\n",
    "# Homework 01, Isaac Hancock, ST371\n",
    "___"
   ]
  },
  {
   "cell_type": "markdown",
   "id": "63d67551",
   "metadata": {},
   "source": [
    "### Part C\n",
    "The largest value, 424, could be increased by any amount and it would not effect the sample median. Conversly, the sample median **WOULD** be effected if one decreased the value to lower than the current median. Thus it could be decreased by a maximum of 424 - 370 = 54"
   ]
  },
  {
   "cell_type": "markdown",
   "id": "7827c713",
   "metadata": {},
   "source": [
    "### Part D"
   ]
  },
  {
   "cell_type": "code",
   "execution_count": 45,
   "id": "1a81c2ab",
   "metadata": {},
   "outputs": [
    {
     "name": "stdout",
     "output_type": "stream",
     "text": [
      "Median: 6.1583 Minutes\n",
      "Mean: 6.1782 Minutes\n"
     ]
    }
   ],
   "source": [
    "# Increase the stuff to minutes.\n",
    "median = statistics.median(data)/60\n",
    "mean = statistics.mean(data)/60\n",
    "print(\"Median: %0.4f Minutes\" % (median))\n",
    "print(\"Mean: %0.4f Minutes\" % (mean))"
   ]
  },
  {
   "cell_type": "markdown",
   "id": "589c5528",
   "metadata": {},
   "source": [
    "## Problem 43\n",
    "___"
   ]
  },
  {
   "cell_type": "markdown",
   "id": "0c8a1dec",
   "metadata": {},
   "source": [
    "The measure of centers that can be calculated are the median. The mean cannot be calculated because we only know that two of the lifetimes are greater than 100 and not actually 100. We do not know their real values."
   ]
  },
  {
   "cell_type": "code",
   "execution_count": 46,
   "id": "3402a85e",
   "metadata": {},
   "outputs": [
    {
     "name": "stdout",
     "output_type": "stream",
     "text": [
      "Median: 68 Hours\n"
     ]
    }
   ],
   "source": [
    "data = [48,79,100,35,92,86,57,100,17,29]\n",
    "median = statistics.median(data)\n",
    "print(\"Median: %0.0f Hours\" %(median))"
   ]
  },
  {
   "cell_type": "markdown",
   "id": "fa6240e8",
   "metadata": {},
   "source": [
    "## Problem 51\n",
    "___\n",
    "### Part A"
   ]
  },
  {
   "cell_type": "code",
   "execution_count": 47,
   "id": "1be1d16a",
   "metadata": {},
   "outputs": [
    {
     "name": "stdout",
     "output_type": "stream",
     "text": [
      "Variance: 1264.7661 Minutes\n",
      "Standard Deviation: 35.5635 Minutes\n"
     ]
    }
   ],
   "source": [
    "data = [87,103,130,160,180,195,132,145,211,105,145,153,152,138,87,99,93,119,129]\n",
    "variance = statistics.variance(data)\n",
    "stdev = statistics.stdev(data)\n",
    "print(\"Variance: %0.4f Minutes\" % (variance))\n",
    "print(\"Standard Deviation: %0.4f Minutes\" % (stdev))"
   ]
  },
  {
   "cell_type": "markdown",
   "id": "c80a3cb7",
   "metadata": {},
   "source": [
    "\n",
    "\n",
    "\n",
    "# Homework 01, Isaac Hancock, ST371\n",
    "___"
   ]
  },
  {
   "cell_type": "markdown",
   "id": "786f74d1",
   "metadata": {},
   "source": [
    "### Part B\n",
    "Below are the results if the question was done in hours. They would merely be the above values but devided by 60. "
   ]
  },
  {
   "cell_type": "code",
   "execution_count": 48,
   "id": "8132ff7b",
   "metadata": {},
   "outputs": [
    {
     "name": "stdout",
     "output_type": "stream",
     "text": [
      "Variance: 21.0794 Hours\n",
      "Standard Deviation: 0.5927 Hours\n"
     ]
    }
   ],
   "source": [
    "print(\"Variance: %0.4f Hours\" % (variance/60))\n",
    "print(\"Standard Deviation: %0.4f Hours\" % (stdev/60))"
   ]
  },
  {
   "cell_type": "markdown",
   "id": "b2478bc2",
   "metadata": {},
   "source": [
    "## Problem 3\n",
    "___\n",
    "### Part A\n",
    "The outcomes are $A = \\{SSF,SFS,FSS\\}$\n",
    "### Part B\n",
    "Event $B = \\{SSF,SFS,FSS,SSS\\}$\n",
    "### Part C\n",
    "The event that the system function is $C = \\{SFS,SSF,SSS\\}$\n",
    "### Part D\n",
    "\n",
    "$C' = 1-C = \\{FFF,FFS,FSF,FSS,SFF,SFS,SSF,SSS\\} - \\{SFS,SSF,SSS\\} = \\{FFF,FFS,FSF,FSS,SFF\\}$\n",
    "___\n",
    "$A \\cap C = \\{SSF,SFS,FSS\\} \\cap \\{SFS,SSF,SSS\\} = \\{SSF,SFS\\}$\n",
    "\n",
    "$A \\cup C = A + C - (A \\cap C) = \\{SSF,SFS,FSS\\} + \\{SFS,SSF,SSS\\} -\\{SSF,SFS\\} = \\{SSF,SFS,FSS,SSS\\} $\n",
    "\n",
    "$B \\cap C = \\{SSF,SFS,FSS,SSS\\} \\cap \\{SFS,SSF,SSS\\} = \\{SSF,SFS,SSS\\}$ \n",
    "\n",
    "$B \\cup C = B + C - (B \\cap C) = \\{SSF,SFS,FSS,SSS\\} + \\{SFS,SSF,SSS\\} - \\{SSF,SFS,SSS\\} = \\{SSF,SFS,FSS,SSS\\}$ \n"
   ]
  },
  {
   "cell_type": "markdown",
   "id": "568d72d2",
   "metadata": {},
   "source": [
    "## Problem 9\n",
    "___\n",
    "### Part A"
   ]
  },
  {
   "cell_type": "code",
   "execution_count": null,
   "id": "e66ddddf",
   "metadata": {},
   "outputs": [],
   "source": []
  }
 ],
 "metadata": {
  "kernelspec": {
   "display_name": "Python 3 (ipykernel)",
   "language": "python",
   "name": "python3"
  },
  "language_info": {
   "codemirror_mode": {
    "name": "ipython",
    "version": 3
   },
   "file_extension": ".py",
   "mimetype": "text/x-python",
   "name": "python",
   "nbconvert_exporter": "python",
   "pygments_lexer": "ipython3",
   "version": "3.10.1"
  }
 },
 "nbformat": 4,
 "nbformat_minor": 5
}
