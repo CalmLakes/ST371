{
 "cells": [
  {
   "cell_type": "markdown",
   "id": "271a9acc",
   "metadata": {},
   "source": [
    "# Homework 05, Isaac Hancock, ST371\n",
    "___"
   ]
  },
  {
   "cell_type": "markdown",
   "id": "2dadd2a4",
   "metadata": {},
   "source": [
    "## Import Section"
   ]
  },
  {
   "cell_type": "code",
   "execution_count": 2,
   "id": "e3587bee",
   "metadata": {},
   "outputs": [],
   "source": [
    "import numpy as np\n",
    "import matplotlib.pyplot as plt\n",
    "import seaborn as sns\n",
    "import pandas as pd\n",
    "import stemgraphic as stg\n",
    "import statistics\n",
    "from scipy.stats import binom,nbinom"
   ]
  },
  {
   "cell_type": "markdown",
   "id": "43af7367",
   "metadata": {},
   "source": [
    "## Problem 69\n",
    "___\n",
    "$r = \\frac{7}{12} = 0.5833$\n",
    "### Part A\n",
    "Find $P(X=4)$ and $P(X \\leq 4)$. $r = 4,x = 6, p = 0.5833$\n",
    "\n",
    "\n"
   ]
  },
  {
   "cell_type": "code",
   "execution_count": 28,
   "id": "f40430aa",
   "metadata": {},
   "outputs": [
    {
     "name": "stdout",
     "output_type": "stream",
     "text": [
      "P(X=4) = 0.01759\n"
     ]
    }
   ],
   "source": [
    "x_eq_4 = nbinom.pmf(k=4,n=1,p=0.5833)\n",
    "print(\"P(X=4) = %0.5f\" % (x_eq_4))"
   ]
  },
  {
   "cell_type": "markdown",
   "id": "2f5dea7f",
   "metadata": {},
   "source": [
    "### Part B"
   ]
  },
  {
   "cell_type": "markdown",
   "id": "c969b7bd",
   "metadata": {},
   "source": [
    "We know \n",
    "$E(x) = \\mu_x = \\displaystyle\\sum_{x} x \\cdot p(x) = 1(0.05) + 2(0.1) + 4(0.35) + 8(0.4) + 16(0.1) = 6.45$\n",
    "### Part B \n",
    "$V(x) = \\displaystyle\\sum_{x} (x - \\mu)^2p(x) = (1-6.45)^2(0.05) + (2-6.45)^2(0.1) + (4-6.45)^2(0.35) + (8-6.45)^2(0.4) + (16-6.45)^2(0.1) = 15.6475$\n",
    "### Part C\n",
    "$\\sigma = \\sqrt{V(x)} = \\sqrt{15.6475} = 3.955692$\n",
    "### Part D\n",
    "$V(x) = E(X^2) - \\mu^2 \\rightarrow E(X^2) = 1^2(0.05) + 2^2(0.1) + 4^2(0.35) + 8^2(0.4) + 16^2(0.1) = 57.25 \\rightarrow V(x) = 57.25 - 6.45^2 = 15.6475$\n",
    "<p style=\"page-break-after:always;\"></p>\n",
    "\n",
    "# Homework 05, Isaac Hancock, ST371\n",
    "___"
   ]
  },
  {
   "cell_type": "markdown",
   "id": "589c5528",
   "metadata": {},
   "source": [
    "## Problem 72\n",
    "___\n",
    "\n",
    "### Part A \n",
    "$E(x) = \\mu_x = \\displaystyle\\sum_{x} x \\cdot p(x) = 16(0.2) + 18(0.5) + 20(0.3) = 18.2$\n",
    "\n",
    "$E(X^2) = 16^2(0.2) + 18^2(0.5) + 20^2(0.3) = 333.2$\n",
    "\n",
    "$V(x) = E(X^2) - \\mu^2 = 333.2 - (18.2^2) = 1.96$\n",
    "### Part B \n",
    "Compute the new values for P where $P = 70X - 650$\n",
    "$70(16) - 650 = 470 \\rightarrow 70(18) - 650 = 610 \\rightarrow 70(20) - 650 = 750 $\n",
    "\n",
    "|P|470|610|750\n",
    "|:-:|:-:|:-:|:-:|\n",
    "|p(x)|0.2 | 0.5|0.3\n",
    "\n",
    "Find $\\mu_P$: \n",
    "$\\mu_P = \\displaystyle\\sum_{x} x \\cdot p(x) = 470(0.2) + 610(0.5) + 750(0.3) = 624$\n",
    "\n",
    "Also could be found by doing $\\mu_p = 70(\\mu_x) - 650 = 750(18.2) - 650 = 624$\n",
    "\n",
    "### Part C\n",
    "$E(P^2) = 470^2(0.2) + 610^2(0.5) + 750^2(0.3) = 398,980$\n",
    "$V(x) = E(X^2) - \\mu_p^2 = 398,980 - (624)^2 = 9,604$\n",
    "\n",
    "### Part D \n",
    "This can be calculated by passing in the mean of X. \n",
    "$\\mu_h = \\mu_x - 0.008(\\mu_x)^2 = 18.2 - 0.008(18.2)^2 = 15.550$"
   ]
  },
  {
   "cell_type": "markdown",
   "id": "fa6240e8",
   "metadata": {},
   "source": [
    "## Problem 76\n",
    "___\n",
    "\n",
    "### Part A\n",
    "Calculate $E(X)$ and after that $E(5 - X)$\n",
    "\n",
    "$E(x) = \\mu_x = \\displaystyle\\sum_{x} x \\cdot p(x) = 1(0.15) + 2(0.35) + 3(0.35) + 4(0.15) = 2.5$\n",
    "\n",
    "$E(5 - X) = 5 - \\mu_x = 5 - 2.5 = 2.5$\n"
   ]
  },
  {
   "cell_type": "markdown",
   "id": "c80a3cb7",
   "metadata": {},
   "source": [
    "<p style=\"\\n\"></p>\n",
    "\n",
    "# Homework 05, Isaac Hancock, ST371\n",
    "___\n",
    "### Part B\n",
    "We have to calculate the new Values of X such that $X_{new} = \\frac{150}{5-X}$\n",
    "\n",
    "$X_1 = \\frac{150}{5-1} = 37.5$\n",
    "$X_1 = \\frac{150}{5-2} = 50$\n",
    "$X_1 = \\frac{150}{5-3} = 75$\n",
    "$X_1 = \\frac{150}{5-4} = 150$\n",
    "\n",
    "|X|37.5|50|75|150|\n",
    "|:-:|:-:|:-:|:-:|:-:|\n",
    "|p(x)|0.15| 0.35|0.35|0.15|\n",
    "\n",
    "$E(x) = \\mu_x = \\displaystyle\\sum_{x} x \\cdot p(x) = 37.5(0.15) + 50(0.35) + 75(0.35) + 150(0.15) = 71.875$\n",
    "\n",
    "Given this information it would be better to charge a flat fee of $75"
   ]
  },
  {
   "cell_type": "markdown",
   "id": "b2478bc2",
   "metadata": {},
   "source": [
    "## Problem 78\n",
    "___\n",
    "\n",
    "Plot the binomial distribution for our datat set. We need to find the probability that at least 9 will work so $P( 9 \\leq X)$ or $P(X=9) + P(X=10)$. We also know that the probability for 1 flashlight working is the probability that both batterys are at the correct voltage. Thus, this can be calculated as such:$0.9*0.9 = 0.81$. We will use these assumptions to create a binomial distribution"
   ]
  },
  {
   "cell_type": "code",
   "execution_count": 35,
   "id": "1b97eb80",
   "metadata": {},
   "outputs": [
    {
     "data": {
      "text/plain": [
       "<BarContainer object of 10 artists>"
      ]
     },
     "execution_count": 35,
     "metadata": {},
     "output_type": "execute_result"
    },
    {
     "data": {
      "image/png": "[encoded data removed]",
      "text/plain": [
       "<Figure size 432x288 with 1 Axes>"
      ]
     },
     "metadata": {
      "needs_background": "light"
     },
     "output_type": "display_data"
    }
   ],
   "source": [
    "dist = binom.pmf(k=range(1,11), n=10,p=0.81)\n",
    "plt.bar(range(1,11),dist)"
   ]
  },
  {
   "cell_type": "code",
   "execution_count": 36,
   "id": "4586b749",
   "metadata": {},
   "outputs": [
    {
     "name": "stdout",
     "output_type": "stream",
     "text": [
      "The probability of at least 9 working is 0.40676\n"
     ]
    }
   ],
   "source": [
    "p = sum(dist[-2:])\n",
    "print(\"The probability of at least 9 working is %0.5f\" % (p))"
   ]
  },
  {
   "cell_type": "markdown",
   "id": "568d72d2",
   "metadata": {},
   "source": [
    "<p style=\"page-break-after:always;\"></p>\n",
    "\n",
    "# Homework 05 Isaac Hancock, ST371\n"
   ]
  },
  {
   "cell_type": "markdown",
   "id": "5ca18804",
   "metadata": {},
   "source": [
    "## Problem 81\n",
    "___\n",
    "The probability of our car being a passenger car is $P(X_P) = 0.6$. The probability of it not being a passenger car is $P(X_N) = 0.4$. \n",
    "\n",
    "$E(X_P) = \\mu_x = \\displaystyle\\sum_{x} x \\cdot p(x) = 25(0.6) = 15$\n",
    "\n",
    "$E(X_N) = 25 - X = 25 - E(X_P) = 25 - 15 = 10$ \n",
    "\n",
    "Thus the total revenue $1.00 \\cdot E(X_P) + 2.5 \\cdot E(X_N) = 1(15) + 2.5(10) = 40$\n",
    "\n",
    "The exepcted toll revenue is 40 dollars"
   ]
  },
  {
   "cell_type": "code",
   "execution_count": null,
   "id": "0a3a1452",
   "metadata": {},
   "outputs": [],
   "source": []
  }
 ],
 "metadata": {
  "kernelspec": {
   "display_name": "Python 3 (ipykernel)",
   "language": "python",
   "name": "python3"
  },
  "language_info": {
   "codemirror_mode": {
    "name": "ipython",
    "version": 3
   },
   "file_extension": ".py",
   "mimetype": "text/x-python",
   "name": "python",
   "nbconvert_exporter": "python",
   "pygments_lexer": "ipython3",
   "version": "3.10.2"
  }
 },
 "nbformat": 4,
 "nbformat_minor": 5
}
