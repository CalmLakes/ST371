{
 "cells": [
  {
   "cell_type": "markdown",
   "id": "271a9acc",
   "metadata": {},
   "source": [
    "# Homework 03, Isaac Hancock, ST371\n",
    "___"
   ]
  },
  {
   "cell_type": "markdown",
   "id": "2dadd2a4",
   "metadata": {},
   "source": [
    "## Import Section"
   ]
  },
  {
   "cell_type": "code",
   "execution_count": 1,
   "id": "e3587bee",
   "metadata": {},
   "outputs": [],
   "source": [
    "import numpy as np\n",
    "import matplotlib.pyplot as plt\n",
    "import seaborn as sns\n",
    "import pandas as pd\n",
    "import stemgraphic as stg\n",
    "import statistics"
   ]
  },
  {
   "cell_type": "markdown",
   "id": "43af7367",
   "metadata": {},
   "source": [
    "## Problem 74\n",
    "___\n",
    "\n",
    "|Table|A|B|AB|O|\n",
    "|:-:|:-:|:-:|:-:|:-:|\n",
    "|P | 0.4 | 0.11 | 0.04|0.45|\n",
    "\n",
    "Independent if $P(A \\cap B) = P(A) *P(B)$\n",
    "Since these are indpendent, we can find the probability that two randomly phenotypes are O by multiplying the probabilities. \n",
    "$0.45 * 0.45 = 0.2025$\n",
    "\n",
    "The probability that two random phenotypes match is the sum of the probability of drawing two of the same for each phenotype. \n",
    "- A : $0.4*0.4 = 0.16$\n",
    "- B: $0.11*0.11 = 0.0.0121$\n",
    "- AB : $0.04*0.04 = 0.0016$\n",
    "- O: $0.45 * 0.45 = 0.2025$\n",
    "\n",
    "Total is $0.16+0.0.0121+0.0016+0.2025 = 0.3762$"
   ]
  },
  {
   "cell_type": "markdown",
   "id": "c969b7bd",
   "metadata": {},
   "source": [
    "<p style=\"page-break-after:always;\"></p>\n",
    "\n",
    "# Homework 03, Isaac Hancock, ST371\n",
    "___"
   ]
  },
  {
   "cell_type": "markdown",
   "id": "589c5528",
   "metadata": {},
   "source": [
    "## Problem 80\n",
    "___\n",
    "\n",
    "\n",
    "$P(1) = P(2) = 0.9$ and $P(3) = P(4) = 0.8$ find P(system works) \n",
    "\n",
    "The probability for the system working is $P(3 \\cap 4 \\cup S_{12})$ where $S_{12} = P(1 \\cup 2)$\n",
    "By independence, $P(3 \\cap 4) = P(3)P(4) = 0.64$\n",
    "$P(1 \\cup 2) = P(1) + P(2) - P(1 \\cap 2) = P(1) + P(2) - P(1)P(2) = 0.9 + 0.9 - (0.9*0.9) = 0.99$\n",
    "$P(3 \\cap 4 \\cup S_{12}) = P(3 \\cap 4) + S_{12} - P(3 \\cap 4 \\cap S_{12}) = 0.64 + 0.99 - (0.64*0.99) = 0.9964$\n",
    "\n",
    "Therefore P(system works) = $0.9964$\n"
   ]
  },
  {
   "cell_type": "markdown",
   "id": "fa6240e8",
   "metadata": {},
   "source": [
    "## Problem 8\n",
    "___\n",
    "Discrete Random Variables\n",
    "$T(S) = 1, T(F) = 0$\n",
    "For the set, the five smallest possible values are as follows. \n",
    "\n",
    "- Y = 3: $S = \\{SSS\\}$\n",
    "- Y = 4: $\\{FSSS\\}$ \n",
    "- Y = 5: $\\{FFSSS\\},\\{SFSSS\\}$\n",
    "- Y = 6: $\\{FFFSSS\\},\\{SFFSSS\\},\\{FSFSSS\\},\\{SSFSSS\\}$\n",
    "- Y = 7: $\\{FFFFSSS\\},\\{SFFFSSS\\},\\{FSFFSSS\\},\\{SSFFSSS\\},\\{FFSFSSS\\},\\{SFSFSSS\\},\\{FSSFSSS\\}$\n",
    "\n",
    "\n",
    "Thus for Y the 5 smallest values are 3,4,5,6,7"
   ]
  },
  {
   "cell_type": "markdown",
   "id": "c80a3cb7",
   "metadata": {},
   "source": [
    "<p style=\"page-break-after:always;\"></p>\n",
    "\n",
    "# Homework 03, Isaac Hancock, ST371\n",
    "___"
   ]
  },
  {
   "cell_type": "markdown",
   "id": "b2478bc2",
   "metadata": {},
   "source": [
    "## Problem 13\n",
    "___\n",
    "\n",
    "### Part A\n",
    "$P(X \\leq 3) = P(X=0) + P(X=1) + P(X=2) + P(X=3) = 0.1+0.15+0.2+0.25 = 0.7$\n",
    "### Part B\n",
    "$P(X<3) = P(X=0) + P(X=1) + P(X=2) = 0.1+0.15+0.2 = 0.45$\n",
    "### Part C\n",
    "$P(X \\geq 3) = 1 - P(X<3) = 1 - 0.45 = 0.55$\n",
    "### Part D \n",
    "$P(2 \\leq X \\leq 5) = P(X=2) + P(X=3) + P(X=4) + P(X=5) = 0.2 + 0.25 + 0.2 + 0.06 = 0.71$\n",
    "### Part E \n",
    "$P(2 \\leq X \\leq 4) = 1 - P(X=2) + P(X=3) + P(X=4) = 0.2 + 0.25 + 0.2 = 0.65$\n",
    "### Part F\n",
    "This can also be expressed as $P(X \\leq 2) = P(X < 3) = 0.45$"
   ]
  },
  {
   "cell_type": "markdown",
   "id": "568d72d2",
   "metadata": {},
   "source": [
    "<p style=\"page-break-after:always;\"></p>\n",
    "\n",
    "# Homework 03, Isaac Hancock, ST371\n"
   ]
  },
  {
   "cell_type": "markdown",
   "id": "5ca18804",
   "metadata": {},
   "source": [
    "## Problem 24\n",
    "___\n",
    "### Part A \n",
    "The pmf of $F(x)$ can be derived by subtracting overlapping terms to find the appropiate probability values. \n",
    "\n",
    "$P(X=n) = F(n) - F(n-1)$\n",
    "$P(X=0) = 0$\n",
    "$P(X=1) = F(1) - F(0) = 0.3 - 0 = 0.3$\n",
    "$P(X=2) = F(2) - F(1) = 0.3 - 0.3 = 0$\n",
    "$P(X=3) = F(3) - F(2) = 0.4 - 0.3 = 0.1$\n",
    "$P(X=4) = F(4) - F(3) = 0.45 - 0.4 = 0.0.05$\n",
    "$P(X=5) = F(5) - F(4) = 0.45 - 0.45 = 0$\n",
    "$P(X=6) = F(6) - F(5) = 0.6 - 0.45 = 0.15$\n",
    "$P(X=7) = F(7) - F(6) = 0.6 - 0.6 = 0$\n",
    "$P(X=8) = F(8) - F(7) = 0.6 - 0.6 = 0$\n",
    "$P(X=9) = F(9) - F(8) = 0.6 - 0.6 = 0$\n",
    "$P(X=10) = F(10) - F(9) = 0.6 - 0.6 = 0$\n",
    "$P(X=11) = F(11) - F(10) = 0.6 - 0.6 = 0$\n",
    "$P(X=12) = F(12) - F(11) = 1 - 0.6 = 0.4$\n",
    "\n",
    "|x|0|1|2|3|4|5|6|7|8|9|10|11|12|\n",
    "|:-:|:-:|:-:|:-:|:-:|:-:|:-:|:-:|:-:|:-:|:-:|:-:|:-:|:-:|\n",
    "|p(x)|0|0.3|0|0.1|0.05|0|0.15|0|0|0|0|0|0.4|\n",
    "\n",
    "### Part B\n",
    "$P(3 \\leq X \\leq 6) = F(6) - F(2) = 0.6 - 0.3 = 0.3$ \n",
    "\n",
    "$P(4 \\leq X) = P(3 < X) = 1 - F(3) = 1 - 0.4 = 0.6$"
   ]
  },
  {
   "cell_type": "code",
   "execution_count": null,
   "id": "6e1285aa",
   "metadata": {},
   "outputs": [],
   "source": []
  }
 ],
 "metadata": {
  "kernelspec": {
   "display_name": "Python 3 (ipykernel)",
   "language": "python",
   "name": "python3"
  },
  "language_info": {
   "codemirror_mode": {
    "name": "ipython",
    "version": 3
   },
   "file_extension": ".py",
   "mimetype": "text/x-python",
   "name": "python",
   "nbconvert_exporter": "python",
   "pygments_lexer": "ipython3",
   "version": "3.10.2"
  }
 },
 "nbformat": 4,
 "nbformat_minor": 5
}
