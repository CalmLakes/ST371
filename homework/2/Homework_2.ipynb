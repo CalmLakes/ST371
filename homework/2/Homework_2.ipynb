{
 "cells": [
  {
   "cell_type": "markdown",
   "id": "271a9acc",
   "metadata": {},
   "source": [
    "# Homework 02, Isaac Hancock, ST371\n",
    "___"
   ]
  },
  {
   "cell_type": "markdown",
   "id": "2dadd2a4",
   "metadata": {},
   "source": [
    "## Import Section"
   ]
  },
  {
   "cell_type": "code",
   "execution_count": 9,
   "id": "e3587bee",
   "metadata": {},
   "outputs": [],
   "source": [
    "Powersave-Tweaks import numpy as np\n",
    "import matplotlib.pyplot as plt\n",
    "import seaborn as sns\n",
    "import pandas as pd\n",
    "import stemgraphic as stg\n",
    "import statistics"
   ]
  },
  {
   "cell_type": "markdown",
   "id": "43af7367",
   "metadata": {},
   "source": [
    "## Problem 17\n",
    "___\n",
    "### Part A\n",
    "There is most likely another statistical software package that is not being accounted for here. We can look at a nice punnet square to help with the rest of the problems \n",
    "\n",
    "|Table|A|A'| Total|\n",
    "|:-:|:-:|:-:|:-:|\n",
    "|B | 0 | 0.5 | 0.5| \n",
    "| B'| 0.3 | 0.2 | 0.5 | \n",
    "|Total| 0.3 | 0.7 | 1 |"
   ]
  },
  {
   "cell_type": "markdown",
   "id": "c044a94b",
   "metadata": {},
   "source": [
    "### Part B\n",
    "$P(A') = 1 - P(A) = 1 - 0.3 = 0.7$\n",
    "### Part C\n",
    "Because P(A) and P(B) are mutually exclusive, we know that\n",
    "$P(A \\cup B) = P(A) + P(B) = 0.3 + 0.5 = 0.8$\n",
    "### Part D \n",
    "By Demorgans we can do the following. \n",
    "$ P(A \\cup B)' = P(A' \\cap B')$ \n",
    "Thus we are looking for $P(C')$ where $P(C) = P(A \\cup B)$. As a result, $(P(C') = 1 - P(C) = 1 - 0.8 \\rightarrow P(A' \\cap B') = 0.2$"
   ]
  },
  {
   "cell_type": "markdown",
   "id": "c969b7bd",
   "metadata": {},
   "source": [
    "<p style=\"page-break-after:always;\"></p>\n",
    "\n",
    "# Homework 01, Isaac Hancock, ST371\n",
    "___"
   ]
  },
  {
   "cell_type": "markdown",
   "id": "589c5528",
   "metadata": {},
   "source": [
    "## Problem 26\n",
    "___\n",
    "\n",
    "\n",
    "### Part A \n",
    "$P(A_1) = 1 - P(A_1 ') = 1 - 0.12 = 0.88$\n",
    "### Part B \n",
    "$P(A_1 \\cup A_2) = P(A_1) + P(A_2) - P(A_1 \\cap A_2) \\rightarrow P(A_1 \\cap A_2) = P(A_1) + P(A_2) - P(A_1 \\cup A_2) = 0.12 + 0.07 - 0.13 \\rightarrow P(A_1 \\cap A_2) = 0.06$\n",
    "\n",
    "### Part C \n",
    "Trying to solve $P(A_1 \\cap A_2 \\cap A_3 ')$\n",
    "$P(A_1 \\cap A_2 \\cap A_3 ') + P(A_1 \\cap A_2 \\cap A_3) = P(A_1 \\cap A_2)\\rightarrow P(A_1 \\cap A_2 \\cap A_3 ') = P(A_1 \\cap A_2) - P(A_1 \\cap A_2 \\cap A_3) = 0.06 - 0.01 \\rightarrow P(A_1 \\cap A_2 \\cap A_3 ') = 0.05 $\n",
    "\n",
    "### Part D \n",
    "\n",
    "This means we need to find the probably of at least 1 part functioning properly. This also can be expressed as $P(D) = 1 - P(A_1 \\cap A_2 \\cap A_3)$. \n",
    "$P(D) = 1 - 0.01 \\rightarrow P(D) = 0.99$"
   ]
  },
  {
   "cell_type": "markdown",
   "id": "fa6240e8",
   "metadata": {},
   "source": [
    "## Problem 56\n",
    "___\n",
    "Prove that For any events $A$ and $B$ with $P(B) > 0$ that $P(A|B) + P(A'|B) = 1$\n",
    "\n",
    "We know that \n",
    "$P(A|B) = \\frac{P(A \\cap B)}{P(B)}$ and $ P(A'|B) = \\frac{P(A' \\cap B)}{P(B)}$. Therefore $ P(A|B) + P(A'|B) =  \\frac{P(A \\cap B)}{P(B)} + \\frac{P(A' \\cap B)}{P(B)} = \\frac{P(A' \\cap B) + P(A' \\cap B)}{P(B)}$. We also know that$ P(A \\cap B) + P(A' \\cap B) = P(B)$, so it follows that $ P(A|B) + P(A'|B) = \\frac{P(B)}{P(B)}$ and that for $P(B) > 0$ to avoid divergence, $P(A|B) + P(A'|B) = 1$"
   ]
  },
  {
   "cell_type": "markdown",
   "id": "c80a3cb7",
   "metadata": {},
   "source": [
    "<p style=\"page-break-after:always;\"></p>\n",
    "\n",
    "# Homework 02, Isaac Hancock, ST371\n",
    "___"
   ]
  },
  {
   "cell_type": "markdown",
   "id": "b2478bc2",
   "metadata": {},
   "source": [
    "## Problem 59\n",
    "___\n",
    "$P(A_1) = 0.40, P(A_2) = 0.35, P(A_3) = 0.25, P(B|A_1) = 0.3, P(B|A_2) = 0.6, P(B|A_3) = 0.5$\n",
    "### Part A\n",
    "We can determine this by what we know about conditional probability. \n",
    "$P(B|A_2) = \\frac{P(A_2 \\cap B)}{P(A_2)} \\rightarrow P(A_2 \\cap B) = P(A_2)P(B|A_2) = 0.35*0.6 \\rightarrow (A_2 \\cap B) = 0.21$\n",
    "### Part B\n",
    "For this we must use our answer to Part A. We are trying to find $P(B)$ This can be accomplished by finding $P(A_1 \\cap B)$ and $P(A_3 \\cap B)$\n",
    "\n",
    "Building off of the logic described in Part A\n",
    "$P(A_1 \\cap B) = P(A_1)P(B|A_1) = 0.4*0.3 = 0.12$ \n",
    "\n",
    "$P(A_3 \\cap B) = P(A_3)P(B|A_3) = 0.25*0.5 = 0.125$ \n",
    "\n",
    "We know that $P(A_1 \\cap B) + P(A_2 \\cap B) + P(A_3 \\cap B) = p(B) \\rightarrow P(B) = 0.21 + 0.12 + 0.125 = 0.455$\n",
    "### Part C\n",
    "We now must find $P(A_1|B)$,$P(A_2|B)$, and $P(A_3|B)$. \n",
    "\n",
    "$P(A_1|B) = \\frac{P(A_1 \\cap B)}{P(B)} = \\frac{0.12}{0.455} = 0.264$\n",
    "\n",
    "$P(A_2|B) = \\frac{P(A_2 \\cap B)}{P(B)} = \\frac{0.21}{0.455} = 0.462$\n",
    "\n",
    "$P(A_3|B) = \\frac{P(A_3 \\cap B)}{P(B)} = \\frac{0.125}{0.455} = 0.275$\n"
   ]
  },
  {
   "cell_type": "markdown",
   "id": "568d72d2",
   "metadata": {},
   "source": [
    "<p style=\"page-break-after:always;\"></p>\n",
    "\n",
    "# Homework 02, Isaac Hancock, ST371\n",
    "$P(A) = 0.75, P(B|A) = 0.9, P(B|A') = 0.8, P(C|A \\cap B) = 0.8, P(C|A \\cap B') = 0.6, P(C| A' \\cap B) = 0.7, P(C|A' \\cap B') = 0.3$ \n",
    "\n",
    "## Problem 63\n",
    "___\n",
    "### Part A\n",
    "Below I have drawn a 3 segment tree for all possible branches.\n",
    "![tree](https://cdn.discordapp.com/attachments/499936996219813899/936297706794663986/unknown.png)\n",
    "<p style=\"page-break-after:always;\"></p>\n",
    "\n",
    "# Homework 02, Isaac Hancock, ST371\n",
    "### Part B\n",
    "Compute $P(A \\cap B \\cap C)$\n",
    "\n",
    "$P(C|A \\cap B) = \\frac{P(A \\cap B \\cap C)}{P(A \\cap B)} \\rightarrow P(B|A) = \\frac{P(A \\cap B)}{P(A)} \\rightarrow P(A \\cap B) = P(B|A)*P(A) = 0.9*0.75 = 0.675 \\rightarrow P(A \\cap B \\cap C) = P(C|A \\cap B)*P(A \\cap B) = 0.8*0.675 = 0.54$\n",
    "### Part C \n",
    "Compute $P('A \\cap B \\cap C)$ and then add that to what was found in Part C.\n",
    "\n",
    "$P(C|A' \\cap B) = \\frac{P(A' \\cap B \\cap C)}{P(A' \\cap B)} \\rightarrow P(B|A') = \\frac{P(A' \\cap B)}{P(A')} \\rightarrow P(A' \\cap B) = P(B|A')*P(A') = 0.8*0.25 = 0.2 \\rightarrow P(A' \\cap B \\cap C) = P(C|A' \\cap B)*P(A' \\cap B) = 0.7*0.2 = 0.14$\n",
    "\n",
    "$P(B \\cap C) = P('A \\cap B \\cap C) + P(A \\cap B \\cap C) = 0.14 + 0.54 = 0.68$\n",
    "### Part D \n",
    "To find $P(C)$ we must find $P(B' \\cap C)$ which means determing $P(A \\cap B' \\cap C)$ and $P(A' \\cap B' \\cap C)$. \n",
    "\n",
    "First we find $P(A \\cap B' \\cap C)$\n",
    "$P(C|A \\cap B') = \\frac{P(A \\cap B' \\cap C)}{P(A \\cap B')} \\rightarrow P(B'|A) = \\frac{P(A \\cap B')}{P(A)} \\rightarrow P(A \\cap B') = P(B'|A)*P(A) = 0.1*0.75 = 0.075 \\rightarrow P(A \\cap B' \\cap C) = P(C|A \\cap B')*P(A \\cap B') = 0.6*0.075 = 0.045$\n",
    "\n",
    "Second we find $P(A' \\cap B' \\cap C)$\n",
    "$P(C|A' \\cap B') = \\frac{P(A' \\cap B' \\cap C)}{P(A' \\cap B')} \\rightarrow P(B'|A') = \\frac{P(A' \\cap B')}{P(A')} \\rightarrow P(A' \\cap B') = P(B'|A')*P(A') = 0.2*0.25 = 0.05 \\rightarrow P(A' \\cap B' \\cap C) = P(C|A' \\cap B')*P(A' \\cap B') = 0.3*0.05 = 0.015$\n",
    "\n",
    "Finally we add these to get $P(B' \\cap C)$ \n",
    "$P(B' \\cap C) = P(A \\cap B' \\cap C) + P(A' \\cap B' \\cap C) = 0.045 + 0.015 = 0.06$\n",
    "\n",
    "$P(C) = P(B' \\cap C) + P(B \\cap C) = 0.06 + 0.68 = 0.74$\n",
    "\n",
    "### Part E\n",
    "$P(A|B \\cap C) = \\frac{P(A \\cap B \\cap C)}{P(B \\cap C)} = \\frac{0.54}{0.68} = 0.794$"
   ]
  },
  {
   "cell_type": "code",
   "execution_count": null,
   "id": "41ca5a0e",
   "metadata": {},
   "outputs": [],
   "source": []
  }
 ],
 "metadata": {
  "kernelspec": {
   "display_name": "Python 3 (ipykernel)",
   "language": "python",
   "name": "python3"
  },
  "language_info": {
   "codemirror_mode": {
    "name": "ipython",
    "version": 3
   },
   "file_extension": ".py",
   "mimetype": "text/x-python",
   "name": "python",
   "nbconvert_exporter": "python",
   "pygments_lexer": "ipython3",
   "version": "3.10.2"
  }
 },
 "nbformat": 4,
 "nbformat_minor": 5
}
